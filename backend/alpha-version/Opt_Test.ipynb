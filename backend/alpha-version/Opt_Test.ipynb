{
 "cells": [
  {
   "cell_type": "markdown",
   "id": "8bc8c427",
   "metadata": {},
   "source": [
    "## 1. Input for optional constraints"
   ]
  },
  {
   "cell_type": "code",
   "execution_count": 36,
   "id": "2ed382d3",
   "metadata": {},
   "outputs": [],
   "source": [
    "media_limits = {\n",
    "    'izervay': {\n",
    "        'pde': {\n",
    "            1: {'lower bound': 60, 'upper bound': 100},\n",
    "            2: {'lower bound': 50, 'upper bound': 116}\n",
    "        }\n",
    "    },\n",
    "    'grizzly': {\n",
    "        'pde': {\n",
    "            1: {'lower bound': 0, 'upper bound': 12},\n",
    "            2: {'lower bound': 150, 'upper bound': 200}\n",
    "            }\n",
    "    }\n",
    " }\n",
    "media_input_percentage = {\n",
    "    'izervay': {\n",
    "        'pde': {1: 0.5, 2: 0.2},\n",
    "        'dtc ctv': {1: 0.3, 2: 0.1}\n",
    "    },\n",
    "    'grizzly': {\n",
    "        'pde': {1: 1, 2: 2}\n",
    "    }\n",
    "}\n",
    "frozen_medias_data = {\n",
    "    'izervay': {\n",
    "        'pde': {1: 200.0, 2: 300.0},\n",
    "        'dtc ctv': {1: 200.0, 2: 200.0}\n",
    "    },\n",
    "    'grizzly': {\n",
    "        'pde': {1: 0.0, 2: 50.0}\n",
    "    }\n",
    "}\n",
    "brand_limit = {\n",
    "    'izervay': {'lower bound': 0, 'upper bound': 1000},\n",
    "    'grizzly': {'lower bound': 0, 'upper bound': 5000}\n",
    "}\n"
   ]
  },
  {
   "cell_type": "markdown",
   "id": "af8ef008",
   "metadata": {},
   "source": [
    "## 2. Optimization"
   ]
  },
  {
   "cell_type": "code",
   "execution_count": 39,
   "id": "16194ed2",
   "metadata": {},
   "outputs": [
    {
     "name": "stdout",
     "output_type": "stream",
     "text": [
      "Current working directory: c:\\Users\\Kuan-ChihLee\\OneDrive - Blend 360\\Desktop\\Git_Repo\\react-dashboard\\backend\\alpha-version\n",
      "Optimization terminated successfully    (Exit mode 0)\n",
      "            Current function value: -161976.9592296347\n",
      "            Iterations: 121\n",
      "            Function evaluations: 8862\n",
      "            Gradient evaluations: 121\n"
     ]
    }
   ],
   "source": [
    "from SpendOptimization import SpendOptimization\n",
    "\n",
    "brand = 'all'\n",
    "\n",
    "# Instantiate the SpendOptimization class\n",
    "optimizer = SpendOptimization(\n",
    "    budget=10000,  # Total budget available for allocation\n",
    "    media_budget_limits=None,  # Optional: Absolute spend limits for each media channel\n",
    "    media_budget_limits_pct=None,  # Optional: Spend limits as a percentage of prior year spending per media\n",
    "    locked_media_allocations=None,  # Optional: Pre-allocated spend limits for media channels\n",
    "    brand=brand,  # Brands to include in the optimization\n",
    "    brand_budget_constraints=None  # Optional: Budget limits per brand\n",
    ")\n",
    "\n",
    "output = optimizer.run()"
   ]
  },
  {
   "cell_type": "markdown",
   "id": "9fca82a2",
   "metadata": {},
   "source": [
    "## 3. Output"
   ]
  },
  {
   "cell_type": "code",
   "execution_count": 40,
   "id": "ddb4c5ec",
   "metadata": {},
   "outputs": [
    {
     "data": {
      "text/html": [
       "<div>\n",
       "<style scoped>\n",
       "    .dataframe tbody tr th:only-of-type {\n",
       "        vertical-align: middle;\n",
       "    }\n",
       "\n",
       "    .dataframe tbody tr th {\n",
       "        vertical-align: top;\n",
       "    }\n",
       "\n",
       "    .dataframe thead th {\n",
       "        text-align: right;\n",
       "    }\n",
       "</style>\n",
       "<table border=\"1\" class=\"dataframe\">\n",
       "  <thead>\n",
       "    <tr style=\"text-align: right;\">\n",
       "      <th></th>\n",
       "      <th>brand</th>\n",
       "      <th>media</th>\n",
       "      <th>period</th>\n",
       "      <th>optimal_spending</th>\n",
       "      <th>incremental_dollar</th>\n",
       "    </tr>\n",
       "  </thead>\n",
       "  <tbody>\n",
       "    <tr>\n",
       "      <th>0</th>\n",
       "      <td>izervay</td>\n",
       "      <td>pde</td>\n",
       "      <td>1</td>\n",
       "      <td>13.934053</td>\n",
       "      <td>215.125676</td>\n",
       "    </tr>\n",
       "    <tr>\n",
       "      <th>1</th>\n",
       "      <td>izervay</td>\n",
       "      <td>pde</td>\n",
       "      <td>2</td>\n",
       "      <td>13.934053</td>\n",
       "      <td>215.125676</td>\n",
       "    </tr>\n",
       "    <tr>\n",
       "      <th>2</th>\n",
       "      <td>izervay</td>\n",
       "      <td>pde</td>\n",
       "      <td>3</td>\n",
       "      <td>13.934053</td>\n",
       "      <td>215.125676</td>\n",
       "    </tr>\n",
       "    <tr>\n",
       "      <th>3</th>\n",
       "      <td>izervay</td>\n",
       "      <td>pde</td>\n",
       "      <td>4</td>\n",
       "      <td>13.934053</td>\n",
       "      <td>215.125676</td>\n",
       "    </tr>\n",
       "    <tr>\n",
       "      <th>4</th>\n",
       "      <td>izervay</td>\n",
       "      <td>pde</td>\n",
       "      <td>5</td>\n",
       "      <td>13.934053</td>\n",
       "      <td>215.125676</td>\n",
       "    </tr>\n",
       "    <tr>\n",
       "      <th>...</th>\n",
       "      <td>...</td>\n",
       "      <td>...</td>\n",
       "      <td>...</td>\n",
       "      <td>...</td>\n",
       "      <td>...</td>\n",
       "    </tr>\n",
       "    <tr>\n",
       "      <th>67</th>\n",
       "      <td>xtandi</td>\n",
       "      <td>dtc ctv</td>\n",
       "      <td>8</td>\n",
       "      <td>50.210953</td>\n",
       "      <td>886.057655</td>\n",
       "    </tr>\n",
       "    <tr>\n",
       "      <th>68</th>\n",
       "      <td>xtandi</td>\n",
       "      <td>dtc ctv</td>\n",
       "      <td>9</td>\n",
       "      <td>50.226134</td>\n",
       "      <td>886.151409</td>\n",
       "    </tr>\n",
       "    <tr>\n",
       "      <th>69</th>\n",
       "      <td>xtandi</td>\n",
       "      <td>dtc ctv</td>\n",
       "      <td>10</td>\n",
       "      <td>50.217752</td>\n",
       "      <td>886.099641</td>\n",
       "    </tr>\n",
       "    <tr>\n",
       "      <th>70</th>\n",
       "      <td>xtandi</td>\n",
       "      <td>dtc ctv</td>\n",
       "      <td>11</td>\n",
       "      <td>50.224656</td>\n",
       "      <td>886.142279</td>\n",
       "    </tr>\n",
       "    <tr>\n",
       "      <th>71</th>\n",
       "      <td>xtandi</td>\n",
       "      <td>dtc ctv</td>\n",
       "      <td>12</td>\n",
       "      <td>50.211832</td>\n",
       "      <td>886.063081</td>\n",
       "    </tr>\n",
       "  </tbody>\n",
       "</table>\n",
       "<p>72 rows × 5 columns</p>\n",
       "</div>"
      ],
      "text/plain": [
       "      brand    media  period  optimal_spending  incremental_dollar\n",
       "0   izervay      pde       1         13.934053          215.125676\n",
       "1   izervay      pde       2         13.934053          215.125676\n",
       "2   izervay      pde       3         13.934053          215.125676\n",
       "3   izervay      pde       4         13.934053          215.125676\n",
       "4   izervay      pde       5         13.934053          215.125676\n",
       "..      ...      ...     ...               ...                 ...\n",
       "67   xtandi  dtc ctv       8         50.210953          886.057655\n",
       "68   xtandi  dtc ctv       9         50.226134          886.151409\n",
       "69   xtandi  dtc ctv      10         50.217752          886.099641\n",
       "70   xtandi  dtc ctv      11         50.224656          886.142279\n",
       "71   xtandi  dtc ctv      12         50.211832          886.063081\n",
       "\n",
       "[72 rows x 5 columns]"
      ]
     },
     "execution_count": 40,
     "metadata": {},
     "output_type": "execute_result"
    }
   ],
   "source": [
    "import pandas as pd\n",
    "\n",
    "records = []\n",
    "for brand, medias in output['output'].items():\n",
    "    for media, periods in medias.items():\n",
    "        for period, metrics in periods.items():\n",
    "            row = {\n",
    "                'brand': brand,\n",
    "                'media': media,\n",
    "                'period': period\n",
    "            }\n",
    "            row.update(metrics)\n",
    "            records.append(row)\n",
    "\n",
    "df = pd.DataFrame(records)\n",
    "df"
   ]
  },
  {
   "cell_type": "code",
   "execution_count": 4,
   "id": "080d5af2",
   "metadata": {},
   "outputs": [
    {
     "data": {
      "text/plain": [
       "brand                 izervayizervayizervayizervayizervayizervayizer...\n",
       "media                 pdepdepdepdepdepdepdepdepdepdepdepdedtc ctvdtc...\n",
       "period                                                              468\n",
       "optimal_spending                                              99.999999\n",
       "incremental_dollar                                         28268.091676\n",
       "dtype: object"
      ]
     },
     "execution_count": 4,
     "metadata": {},
     "output_type": "execute_result"
    }
   ],
   "source": [
    "df.sum()"
   ]
  }
 ],
 "metadata": {
  "kernelspec": {
   "display_name": "Python 3",
   "language": "python",
   "name": "python3"
  },
  "language_info": {
   "codemirror_mode": {
    "name": "ipython",
    "version": 3
   },
   "file_extension": ".py",
   "mimetype": "text/x-python",
   "name": "python",
   "nbconvert_exporter": "python",
   "pygments_lexer": "ipython3",
   "version": "3.10.6"
  }
 },
 "nbformat": 4,
 "nbformat_minor": 5
}
